{
  "cells": [
    {
      "cell_type": "markdown",
      "metadata": {
        "colab_type": "text",
        "id": "view-in-github"
      },
      "source": [
        "<a href=\"https://colab.research.google.com/github/koki0430/SYAKKE/blob/main/Tester.ipynb\" target=\"_parent\"><img src=\"https://colab.research.google.com/assets/colab-badge.svg\" alt=\"Open In Colab\"/></a>"
      ]
    },
    {
      "cell_type": "code",
      "execution_count": 1,
      "metadata": {
        "colab": {
          "base_uri": "https://localhost:8080/"
        },
        "id": "9YrFzWUzKEkL",
        "outputId": "a34bd937-3520-458c-ef48-2a2a41543abb"
      },
      "outputs": [
        {
          "name": "stdout",
          "output_type": "stream",
          "text": [
            "q\n"
          ]
        }
      ],
      "source": [
        "import time\n",
        "limit = time.time() + 8\n",
        "count = 1\n",
        "while limit >= time.time():\n",
        "    count +=1\n",
        "print('q')"
      ]
    },
    {
      "cell_type": "code",
      "execution_count": 1,
      "metadata": {
        "colab": {
          "base_uri": "https://localhost:8080/"
        },
        "id": "5U9SEKpiMn1-",
        "outputId": "aad6f2a9-5805-4ae0-9f38-88213bb3a80e"
      },
      "outputs": [
        {
          "name": "stdout",
          "output_type": "stream",
          "text": [
            "(200, 100, 60)_17.142857142857142_70.0_78.43137254901961\n"
          ]
        }
      ],
      "source": [
        "rgb = 200, 100, 60\n",
        "# Hue\n",
        "if rgb[1] < rgb[0] > rgb[2]: # Red\n",
        "    hue = 60 * ((rgb[1] - rgb[2]) / (max(rgb) - min(rgb)))\n",
        "elif rgb[0] < rgb[1] > rgb[2]: # Green\n",
        "    hue = 60 * ((rgb[2] - rgb[0]) / (max(rgb) - min(rgb))) + 120\n",
        "else: # Blue\n",
        "    hue = 60 * ((rgb[0] - rgb[1]) / (max(rgb) - min(rgb))) + 240\n",
        "\n",
        "if hue < 0:\n",
        "    hue += 360\n",
        "\n",
        "# Saturation\n",
        "saturation = (max(rgb) - min(rgb)) / max(rgb) * 100\n",
        "\n",
        "# Brightness\n",
        "brightness = (max(rgb) / 255) * 100\n",
        "\n",
        "print(str(rgb) +\"_\" + str(hue) +\"_\" + str(saturation) +\"_\" + str(brightness))"
      ]
    },
    {
      "cell_type": "code",
      "execution_count": 14,
      "metadata": {
        "colab": {
          "base_uri": "https://localhost:8080/"
        },
        "id": "0ImAB8yAiynW",
        "outputId": "2e4e67b4-69e8-4f0c-ed96-ed8105712d68"
      },
      "outputs": [
        {
          "name": "stdout",
          "output_type": "stream",
          "text": [
            "49.988742\n"
          ]
        }
      ],
      "source": [
        "import random\n",
        "total = 0\n",
        "for i in range(1000000):\n",
        "    number1 = random.randint(0,100)\n",
        "    count=0\n",
        "    while number1 != count:\n",
        "        count += 1\n",
        "    total += count\n",
        "\n",
        "print(total/1000000)"
      ]
    },
    {
      "cell_type": "code",
      "execution_count": 4,
      "metadata": {
        "colab": {
          "base_uri": "https://localhost:8080/"
        },
        "id": "posKPpEsVFG3",
        "outputId": "4ac454aa-dc56-4755-e273-3848725bca60"
      },
      "outputs": [
        {
          "name": "stdout",
          "output_type": "stream",
          "text": [
            "y\n"
          ]
        }
      ],
      "source": [
        "num1 = 1\n",
        "num2 = 2\n",
        "num3 = 3\n",
        "if  num2 < num3 > num1:\n",
        "    print(\"y\")\n",
        "else:\n",
        "    print(\"n\")"
      ]
    },
    {
      "cell_type": "code",
      "execution_count": 6,
      "metadata": {
        "colab": {
          "base_uri": "https://localhost:8080/"
        },
        "id": "_74_OjEaVl6X",
        "outputId": "ff95f6bc-80b9-4bd4-c3db-14288024b47d"
      },
      "outputs": [
        {
          "name": "stdout",
          "output_type": "stream",
          "text": [
            "1\n"
          ]
        }
      ],
      "source": [
        "l = (1,2,3)\n",
        "print(l[0])"
      ]
    },
    {
      "cell_type": "code",
      "execution_count": 10,
      "metadata": {
        "colab": {
          "base_uri": "https://localhost:8080/"
        },
        "id": "9ZqXGbHnW8-l",
        "outputId": "2ef1b63f-3d14-44c9-c22a-046eb39ce46c"
      },
      "outputs": [
        {
          "name": "stdout",
          "output_type": "stream",
          "text": [
            "359\n"
          ]
        }
      ],
      "source": [
        "hue = -1\n",
        "if hue < 0: hue += 360\n",
        "print(hue)"
      ]
    },
    {
      "cell_type": "code",
      "execution_count": 14,
      "metadata": {
        "colab": {
          "base_uri": "https://localhost:8080/"
        },
        "id": "Kco6AqfpbK2D",
        "outputId": "f3e3e632-f2c4-494d-9d70-aa7399fe367d"
      },
      "outputs": [
        {
          "name": "stdout",
          "output_type": "stream",
          "text": [
            "can only concatenate str (not \"int\") to str\n",
            "300\n"
          ]
        }
      ],
      "source": [
        "n = '100'\n",
        "try:\n",
        "    print(n + 200)\n",
        "except TypeError as e:\n",
        "    print(e)\n",
        "# TypeError: can only concatenate str (not \"int\") to str\n",
        "\n",
        "n = 100\n",
        "\n",
        "print(100 + 200)\n",
        "# 300"
      ]
    },
    {
      "cell_type": "code",
      "execution_count": null,
      "metadata": {
        "colab": {
          "base_uri": "https://localhost:8080/"
        },
        "id": "8SUUYVYoW6Nr",
        "outputId": "527d595d-60c0-467f-a94e-25a0618ca9dd"
      },
      "outputs": [
        {
          "name": "stdout",
          "output_type": "stream",
          "text": [
            "aaa\n"
          ]
        }
      ],
      "source": [
        "class Test1:\n",
        "    def num1(self):\n",
        "        print('aaa')\n",
        "\n",
        "    def num2(self):\n",
        "        self.num1()\n",
        "\n",
        "test = Test1()\n",
        "\n",
        "test.num2()"
      ]
    },
    {
      "cell_type": "code",
      "execution_count": null,
      "metadata": {
        "colab": {
          "base_uri": "https://localhost:8080/",
          "height": 374
        },
        "id": "1aOUptiLxp40",
        "outputId": "cbb25981-ac60-4525-a932-f3919349aa28"
      },
      "outputs": [
        {
          "name": "stdout",
          "output_type": "stream",
          "text": [
            "[1, 1, 1, 12, 1, 123456]\n",
            "[1, 1, 1, 12, 1, 123456]\n"
          ]
        },
        {
          "ename": "NameError",
          "evalue": "ignored",
          "output_type": "error",
          "traceback": [
            "\u001b[0;31m---------------------------------------------------------------------------\u001b[0m",
            "\u001b[0;31mNameError\u001b[0m                                 Traceback (most recent call last)",
            "\u001b[0;32m<ipython-input-12-daf23369f88b>\u001b[0m in \u001b[0;36m<module>\u001b[0;34m()\u001b[0m\n\u001b[1;32m     13\u001b[0m \u001b[0mtest\u001b[0m \u001b[0;34m=\u001b[0m \u001b[0mTest\u001b[0m\u001b[0;34m(\u001b[0m\u001b[0;34m)\u001b[0m\u001b[0;34m\u001b[0m\u001b[0;34m\u001b[0m\u001b[0m\n\u001b[1;32m     14\u001b[0m \u001b[0mtest\u001b[0m\u001b[0;34m.\u001b[0m\u001b[0mnum1\u001b[0m\u001b[0;34m(\u001b[0m\u001b[0;34m)\u001b[0m\u001b[0;34m\u001b[0m\u001b[0;34m\u001b[0m\u001b[0m\n\u001b[0;32m---> 15\u001b[0;31m \u001b[0mtest\u001b[0m\u001b[0;34m.\u001b[0m\u001b[0mnum2\u001b[0m\u001b[0;34m(\u001b[0m\u001b[0;34m)\u001b[0m\u001b[0;34m\u001b[0m\u001b[0;34m\u001b[0m\u001b[0m\n\u001b[0m",
            "\u001b[0;32m<ipython-input-12-daf23369f88b>\u001b[0m in \u001b[0;36mnum2\u001b[0;34m(self)\u001b[0m\n\u001b[1;32m      9\u001b[0m     \u001b[0;32mdef\u001b[0m \u001b[0mnum2\u001b[0m\u001b[0;34m(\u001b[0m\u001b[0mself\u001b[0m\u001b[0;34m)\u001b[0m\u001b[0;34m:\u001b[0m\u001b[0;34m\u001b[0m\u001b[0;34m\u001b[0m\u001b[0m\n\u001b[1;32m     10\u001b[0m         \u001b[0mprint\u001b[0m\u001b[0;34m(\u001b[0m\u001b[0mTest\u001b[0m\u001b[0;34m.\u001b[0m\u001b[0merror\u001b[0m\u001b[0;34m)\u001b[0m\u001b[0;34m\u001b[0m\u001b[0;34m\u001b[0m\u001b[0m\n\u001b[0;32m---> 11\u001b[0;31m         \u001b[0mprint\u001b[0m\u001b[0;34m(\u001b[0m\u001b[0mnum1\u001b[0m\u001b[0;34m)\u001b[0m\u001b[0;34m\u001b[0m\u001b[0;34m\u001b[0m\u001b[0m\n\u001b[0m\u001b[1;32m     12\u001b[0m \u001b[0;34m\u001b[0m\u001b[0m\n\u001b[1;32m     13\u001b[0m \u001b[0mtest\u001b[0m \u001b[0;34m=\u001b[0m \u001b[0mTest\u001b[0m\u001b[0;34m(\u001b[0m\u001b[0;34m)\u001b[0m\u001b[0;34m\u001b[0m\u001b[0;34m\u001b[0m\u001b[0m\n",
            "\u001b[0;31mNameError\u001b[0m: name 'num1' is not defined"
          ]
        }
      ],
      "source": [
        "class Test():\n",
        "    error = [1,1,1,12,1]\n",
        "\n",
        "    def num1(self):\n",
        "        Test.error.append(123456)\n",
        "        num1 = 1\n",
        "        print(Test.error)\n",
        "    \n",
        "    def num2(self):\n",
        "        print(Test.error)\n",
        "        print(num1)\n",
        "\n",
        "test = Test()\n",
        "test.num1()\n",
        "test.num2()"
      ]
    },
    {
      "cell_type": "code",
      "execution_count": null,
      "metadata": {
        "id": "xa76fptuW5sG",
        "outputId": "a82621cc-f489-43e7-cc99-f852e38732ee"
      },
      "outputs": [
        {
          "name": "stdout",
          "output_type": "stream",
          "text": [
            "49.99755979\n"
          ]
        }
      ],
      "source": [
        "import random\n",
        "total = 0\n",
        "for i in range(100000000):\n",
        "    number1 = random.randint(0,100)\n",
        "    count=0\n",
        "    while number1 != count:\n",
        "        count += 1\n",
        "    total += count\n",
        "\n",
        "print(total/100000000)"
      ]
    },
    {
      "cell_type": "code",
      "execution_count": null,
      "metadata": {
        "colab": {
          "base_uri": "https://localhost:8080/"
        },
        "id": "GFcFrXZzyx67",
        "outputId": "3dc24d2d-814a-47d2-955d-296fb0b40acc"
      },
      "outputs": [
        {
          "name": "stdout",
          "output_type": "stream",
          "text": [
            "2\n"
          ]
        }
      ],
      "source": [
        "def test(pasr):\n",
        "    return 1 if pasr == 2 else 2\n",
        "\n",
        "print(test(1))"
      ]
    },
    {
      "cell_type": "code",
      "execution_count": null,
      "metadata": {
        "id": "aXhjRAZ9z0nX"
      },
      "outputs": [],
      "source": [
        "class Test:\n",
        "    def __init__(self,port):\n",
        "        self.port = port\n",
        "    \n",
        "    def aaa(self):\n",
        "        print(self.port)\n",
        "\n",
        "test = Test(1)\n",
        "\n",
        "test.aaa(1)"
      ]
    },
    {
      "cell_type": "code",
      "execution_count": null,
      "metadata": {
        "colab": {
          "base_uri": "https://localhost:8080/"
        },
        "id": "TOKuIs7cBZOp",
        "outputId": "7cd64d33-ed0b-4a35-ff68-589de747abbf"
      },
      "outputs": [
        {
          "name": "stdout",
          "output_type": "stream",
          "text": [
            "a\n"
          ]
        }
      ],
      "source": [
        "lists = [1,2,3,4,5,6,7,8,9]\n",
        "\n",
        "if all(i >= 1 for i in lists):\n",
        "    print('a')\n",
        "else:\n",
        "    print('n')"
      ]
    },
    {
      "cell_type": "code",
      "execution_count": null,
      "metadata": {
        "id": "uefjR38AEfUM"
      },
      "outputs": [],
      "source": [
        "se = [1,2,2]\n",
        "acs(se)\n",
        "\n",
        "def acs(lists):\n",
        "    print(lists)"
      ]
    },
    {
      "cell_type": "code",
      "execution_count": null,
      "metadata": {
        "colab": {
          "base_uri": "https://localhost:8080/"
        },
        "id": "3KtHeL5wIcP1",
        "outputId": "d6b84e40-c7bf-4faa-9555-de4dff66672c"
      },
      "outputs": [
        {
          "name": "stdout",
          "output_type": "stream",
          "text": [
            "[1, 2, 3]\n"
          ]
        }
      ],
      "source": [
        "print(a())\n",
        "\n",
        "def a():\n",
        "    lists = [1,2,3]\n",
        "    return lists\n",
        "\n"
      ]
    },
    {
      "cell_type": "code",
      "execution_count": null,
      "metadata": {
        "colab": {
          "base_uri": "https://localhost:8080/"
        },
        "id": "agcBHy49NIAI",
        "outputId": "065c6c1b-c1ba-4462-b6d6-743be8b81a0c"
      },
      "outputs": [
        {
          "name": "stdout",
          "output_type": "stream",
          "text": [
            "(1, 2, 3)\n",
            "<class 'tuple'>\n"
          ]
        }
      ],
      "source": [
        "def test(lis):\n",
        "    print(lis)\n",
        "    print(type(lis))\n",
        "\n",
        "test((1,2,3))"
      ]
    },
    {
      "cell_type": "code",
      "execution_count": null,
      "metadata": {
        "colab": {
          "base_uri": "https://localhost:8080/"
        },
        "id": "5KtwyeSrdUO0",
        "outputId": "16684b7e-1da8-405b-a490-79ecd612e60d"
      },
      "outputs": [
        {
          "name": "stdout",
          "output_type": "stream",
          "text": [
            "100 40\n"
          ]
        }
      ],
      "source": [
        "a = 10\n",
        "b = 10\n",
        "print(str(a*b)+\" \"+str(2*a+2*b))"
      ]
    },
    {
      "cell_type": "code",
      "execution_count": null,
      "metadata": {
        "colab": {
          "base_uri": "https://localhost:8080/"
        },
        "id": "kbpK4o2QaLOU",
        "outputId": "9151430e-722d-45b3-eec1-eda388bcb187"
      },
      "outputs": [
        {
          "name": "stdout",
          "output_type": "stream",
          "text": [
            "[1, 2, 3, 4]\n"
          ]
        }
      ],
      "source": [
        "\n",
        "class Test():\n",
        "    def tester(self,rty):\n",
        "        print(rty)\n",
        "\n",
        "l = [1,2,3,4]\n",
        "tes = Test()\n",
        "tes.tester(l)\n"
      ]
    },
    {
      "cell_type": "markdown",
      "metadata": {
        "id": "oBCpNxikKKoR"
      },
      "source": []
    }
  ],
  "metadata": {
    "accelerator": "GPU",
    "colab": {
      "include_colab_link": true,
      "name": "Tester.ipynb",
      "provenance": []
    },
    "interpreter": {
      "hash": "4f946df053fbf2b937619d3c5458e7af74262f9a954d8797ba0b27400bcafe06"
    },
    "kernelspec": {
      "display_name": "Python 3.10.4 64-bit",
      "language": "python",
      "name": "python3"
    },
    "language_info": {
      "codemirror_mode": {
        "name": "ipython",
        "version": 3
      },
      "file_extension": ".py",
      "mimetype": "text/x-python",
      "name": "python",
      "nbconvert_exporter": "python",
      "pygments_lexer": "ipython3",
      "version": "3.10.4"
    }
  },
  "nbformat": 4,
  "nbformat_minor": 0
}
