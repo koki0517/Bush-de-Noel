{
 "cells": [
  {
   "cell_type": "code",
   "execution_count": 1,
   "metadata": {},
   "outputs": [
    {
     "name": "stdout",
     "output_type": "stream",
     "text": [
      "100.08286\n"
     ]
    }
   ],
   "source": [
    "import random\n",
    "total = 0\n",
    "for i in range(100000):\n",
    "    number1 = random.randint(0,100)\n",
    "    number2 = random.randint(0,100)\n",
    "    count=0\n",
    "    while number1 != number2:\n",
    "        number2 = random.randint(0,100)\n",
    "        count+=1\n",
    "    total+=count\n",
    "\n",
    "print(total/100000)"
   ]
  },
  {
   "cell_type": "code",
   "execution_count": null,
   "metadata": {},
   "outputs": [],
   "source": [
    "# リストORタプルの条件を満たす要素の個数をカウント\n",
    "l = list(range(-5, 6))\n",
    "print([i < 0 for i in l])\n",
    "# [True, True, True, True, True, False, False, False, False, False, False]\n",
    "\n",
    "print(sum([i < 0 for i in l]))\n",
    "# 5"
   ]
  },
  {
   "cell_type": "code",
   "execution_count": null,
   "metadata": {},
   "outputs": [],
   "source": [
    "# すべての要素が条件に当てはまるかを\n",
    "l = list(range(-5, 6))\n",
    "print(i < 0 for i in l)\n",
    "# True"
   ]
  },
  {
   "cell_type": "markdown",
   "metadata": {},
   "source": [
    "Also note, that because of latency (I believe due to file I/O), we will have to include a sleep command after each initialization, in order to have the right drivers etc. loaded. My experience is that if you are running the programs directly from a SSH terminal or on the EV3 itself, 500 ms is enough. Running the programs from Visual Studio Code requires 1000 ms (1 second)."
   ]
  },
  {
   "cell_type": "markdown",
   "metadata": {},
   "source": [
    "basic unit for motor class is percent"
   ]
  },
  {
   "cell_type": "markdown",
   "metadata": {},
   "source": [
    "break true...break, false..not break"
   ]
  },
  {
   "cell_type": "markdown",
   "metadata": {},
   "source": [
    "The rated maximum speed of the Lego EV3 large motor is 1050 deg/s.  \n",
    "The rated maximum speed of the Lego EV3 medium motor is 1560 deg/s."
   ]
  },
  {
   "cell_type": "markdown",
   "metadata": {},
   "source": [
    "#### max is about 80 with white paper, 3mm separation  \n",
    "#### and 5 with black plastic, same separation"
   ]
  },
  {
   "cell_type": "markdown",
   "metadata": {},
   "source": []
  },
  {
   "cell_type": "markdown",
   "metadata": {},
   "source": [
    "**Steering**  \n",
    "範囲 -100~100  \n",
    "左曲がりが負の値  \n",
    "右曲がりが性の値  "
   ]
  }
 ],
 "metadata": {
  "interpreter": {
   "hash": "4f946df053fbf2b937619d3c5458e7af74262f9a954d8797ba0b27400bcafe06"
  },
  "kernelspec": {
   "display_name": "Python 3.10.4 64-bit",
   "language": "python",
   "name": "python3"
  },
  "language_info": {
   "codemirror_mode": {
    "name": "ipython",
    "version": 3
   },
   "file_extension": ".py",
   "mimetype": "text/x-python",
   "name": "python",
   "nbconvert_exporter": "python",
   "pygments_lexer": "ipython3",
   "version": "3.10.4"
  },
  "orig_nbformat": 4
 },
 "nbformat": 4,
 "nbformat_minor": 2
}
